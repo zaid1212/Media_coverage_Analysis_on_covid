{
 "cells": [
  {
   "cell_type": "markdown",
   "metadata": {
    "id": "QT3oQ5wW_R6s"
   },
   "source": [
    "# The following project is built with an intention to help in the analysis of the coverage of various media outlets.\n",
    "\n",
    "### We try to count the number of articles a given media has dedicated to a given topic.\n",
    "\n",
    "###### We hypothesize that if the article is about a given subject, that words most likely exists in the title of the article.\n",
    "###### As in the following case, we assume if the article is about covid, the words COVID or COVID-19 or CORONA VIRUS etc would be present in the title\n"
   ]
  },
  {
   "cell_type": "code",
   "execution_count": 1,
   "metadata": {
    "id": "QUpGC-3NtHLN"
   },
   "outputs": [
    {
     "name": "stdout",
     "output_type": "stream",
     "text": [
      "Requirement already satisfied: newspaper3k in c:\\users\\91843\\anaconda3\\lib\\site-packages (0.2.8)\n",
      "Requirement already satisfied: beautifulsoup4>=4.4.1 in c:\\users\\91843\\anaconda3\\lib\\site-packages (from newspaper3k) (4.11.1)\n",
      "Requirement already satisfied: tldextract>=2.0.1 in c:\\users\\91843\\anaconda3\\lib\\site-packages (from newspaper3k) (3.4.0)\n",
      "Requirement already satisfied: tinysegmenter==0.3 in c:\\users\\91843\\anaconda3\\lib\\site-packages (from newspaper3k) (0.3)\n",
      "Requirement already satisfied: PyYAML>=3.11 in c:\\users\\91843\\anaconda3\\lib\\site-packages (from newspaper3k) (6.0)\n",
      "Requirement already satisfied: lxml>=3.6.0 in c:\\users\\91843\\anaconda3\\lib\\site-packages (from newspaper3k) (4.9.1)\n",
      "Requirement already satisfied: requests>=2.10.0 in c:\\users\\91843\\anaconda3\\lib\\site-packages (from newspaper3k) (2.28.1)\n",
      "Requirement already satisfied: nltk>=3.2.1 in c:\\users\\91843\\anaconda3\\lib\\site-packages (from newspaper3k) (3.7)\n",
      "Requirement already satisfied: python-dateutil>=2.5.3 in c:\\users\\91843\\anaconda3\\lib\\site-packages (from newspaper3k) (2.8.2)\n",
      "Requirement already satisfied: cssselect>=0.9.2 in c:\\users\\91843\\anaconda3\\lib\\site-packages (from newspaper3k) (1.2.0)\n",
      "Requirement already satisfied: Pillow>=3.3.0 in c:\\users\\91843\\anaconda3\\lib\\site-packages (from newspaper3k) (9.2.0)\n",
      "Requirement already satisfied: feedfinder2>=0.0.4 in c:\\users\\91843\\anaconda3\\lib\\site-packages (from newspaper3k) (0.0.4)\n",
      "Requirement already satisfied: feedparser>=5.2.1 in c:\\users\\91843\\anaconda3\\lib\\site-packages (from newspaper3k) (6.0.10)\n",
      "Requirement already satisfied: jieba3k>=0.35.1 in c:\\users\\91843\\anaconda3\\lib\\site-packages (from newspaper3k) (0.35.1)\n",
      "Requirement already satisfied: soupsieve>1.2 in c:\\users\\91843\\anaconda3\\lib\\site-packages (from beautifulsoup4>=4.4.1->newspaper3k) (2.3.1)\n",
      "Requirement already satisfied: six in c:\\users\\91843\\anaconda3\\lib\\site-packages (from feedfinder2>=0.0.4->newspaper3k) (1.16.0)\n",
      "Requirement already satisfied: sgmllib3k in c:\\users\\91843\\anaconda3\\lib\\site-packages (from feedparser>=5.2.1->newspaper3k) (1.0.0)\n",
      "Requirement already satisfied: click in c:\\users\\91843\\anaconda3\\lib\\site-packages (from nltk>=3.2.1->newspaper3k) (8.0.4)\n",
      "Requirement already satisfied: tqdm in c:\\users\\91843\\anaconda3\\lib\\site-packages (from nltk>=3.2.1->newspaper3k) (4.64.1)\n",
      "Requirement already satisfied: regex>=2021.8.3 in c:\\users\\91843\\anaconda3\\lib\\site-packages (from nltk>=3.2.1->newspaper3k) (2022.7.9)\n",
      "Requirement already satisfied: joblib in c:\\users\\91843\\anaconda3\\lib\\site-packages (from nltk>=3.2.1->newspaper3k) (1.1.0)\n",
      "Requirement already satisfied: certifi>=2017.4.17 in c:\\users\\91843\\anaconda3\\lib\\site-packages (from requests>=2.10.0->newspaper3k) (2022.6.15)\n",
      "Requirement already satisfied: charset-normalizer<3,>=2 in c:\\users\\91843\\anaconda3\\lib\\site-packages (from requests>=2.10.0->newspaper3k) (2.0.4)\n",
      "Requirement already satisfied: urllib3<1.27,>=1.21.1 in c:\\users\\91843\\anaconda3\\lib\\site-packages (from requests>=2.10.0->newspaper3k) (1.26.11)\n",
      "Requirement already satisfied: idna<4,>=2.5 in c:\\users\\91843\\anaconda3\\lib\\site-packages (from requests>=2.10.0->newspaper3k) (3.3)\n",
      "Requirement already satisfied: requests-file>=1.4 in c:\\users\\91843\\anaconda3\\lib\\site-packages (from tldextract>=2.0.1->newspaper3k) (1.5.1)\n",
      "Requirement already satisfied: filelock>=3.0.8 in c:\\users\\91843\\anaconda3\\lib\\site-packages (from tldextract>=2.0.1->newspaper3k) (3.6.0)\n",
      "Requirement already satisfied: colorama in c:\\users\\91843\\anaconda3\\lib\\site-packages (from click->nltk>=3.2.1->newspaper3k) (0.4.5)\n"
     ]
    }
   ],
   "source": [
    "!pip install newspaper3k"
   ]
  },
  {
   "cell_type": "markdown",
   "metadata": {
    "id": "3eXvu578-FqN"
   },
   "source": [
    "#####Importing necessary packages..."
   ]
  },
  {
   "cell_type": "code",
   "execution_count": 4,
   "metadata": {
    "id": "bIds3NmBsiD4"
   },
   "outputs": [],
   "source": [
    "from bs4 import BeautifulSoup\n",
    "from bs4.dammit import EncodingDetector\n",
    "from newspaper import Article\n",
    "import requests\n",
    "import matplotlib.pyplot as plt \n",
    "import numpy as np"
   ]
  },
  {
   "cell_type": "code",
   "execution_count": 5,
   "metadata": {
    "id": "BXL3K92Dsq-9"
   },
   "outputs": [],
   "source": [
    "URL=[\"https://www.timesnownews.com/coronavirus\",\"https://www.indiatoday.in/coronavirus\",\"https://www.ndtv.com/coronavirus?pfrom=home-mainnavgation\"]\n",
    "Url_count = []"
   ]
  },
  {
   "cell_type": "markdown",
   "metadata": {
    "id": "kj2OTodv-Pay"
   },
   "source": [
    "The following for loop scrapres all the links that exist within a url from the URL list.\n",
    "\n",
    "Each of the extracted link's title is then printed"
   ]
  },
  {
   "cell_type": "code",
   "execution_count": 6,
   "metadata": {
    "id": "NcHfFCRKsq0Y"
   },
   "outputs": [
    {
     "name": "stdout",
     "output_type": "stream",
     "text": [
      "TIMES NOW\n",
      "\n",
      "Times Now (@timesnow) • Instagram photos and videos\n",
      "FIFA World Cup 2022: Full Schedule, Live Score, News, Stats, Points Table, Teams\n",
      "Facebook ಗೆ ಲಾಗಿನ್ ಮಾಡಿ\n",
      "\n",
      "LinkedIn\n",
      "WhatsAppನಲ್ಲಿ ಹಂಚಿಕೂಳ್ಳಿ\n",
      "Entertainment News - Latest Bollywood News, Hollywood, Celebrity News and Gossips\n",
      "Bollywood News, Latest Bollywood News and Bollywood Gossips Today\n",
      "Bollywood News, Latest Bollywood News and Bollywood Gossips Today\n",
      "Web Stories, Entertainment Web Stories, Photo Stories, AMP Stories\n",
      "Bollywood News, Latest Bollywood News and Bollywood Gossips Today\n",
      "Reviews, Movie Reviews, Bollywood Movie Reviews, Hollywood Movie and Web Series Reviews\n",
      "Bollywood News, Latest Bollywood News and Bollywood Gossips Today\n",
      "Reviews, Movie Reviews, Bollywood Movie Reviews, Hollywood Movie and Web Series Reviews\n",
      "Reviews, Movie Reviews, Bollywood Movie Reviews, Hollywood Movie and Web Series Reviews\n",
      "Inside Hanshika Motwani and Sohael's wedding: Entry on Din Shagna Da to grand varmala, see VIDEOS\n",
      "Bigg Boss 16 celebrity rankings: Priyanka Choudhary, Shiv Thakare own yet another week of reality show\n",
      "Akshay Kumar responds to Pakistani man’s Bell Bottom has 'things against Pak' remark\n",
      "EXCL! Harsh Rajput on Pishachini going off-air: The charm of a good show is knowing where to call it an end\n",
      "Hansika Motwani weds Sohael Khaturiya in a dreamy ceremony. See pics\n",
      "Hansika Motwani, Sohael Khaturiya look glam as they celebrate Haldi and Sangeet ceremony, videos go VIRAL\n",
      "Sonam shares a glimpse of baby Vayu as she enjoys 'playtime' with him after returning from Red Sea Film Fest\n",
      "EXCL! Anupamaa actor Apurva Agnihotri on embracing parenthood: Never been happier, every moment seems beautiful\n",
      "Photos of the day: Deepika Padukone's stunning selfie, Hrithik Roshan's dapper look\n",
      "Entertainment News - Latest Bollywood News, Hollywood, Celebrity News and Gossips\n",
      "Quotes to fade your Monday morning blues away\n",
      "Quotes to fade your Monday morning blues away\n",
      "Women-only places on Earth where men are banned\n",
      "Women-only places on Earth where men are banned\n",
      "Indian Navy Day: Grand celebration in pics\n",
      "Indian Navy Day: Grand celebration in pics\n",
      "iPhone or Android? What is Bollywood's choice?\n",
      "iPhone or Android? What is Bollywood's choice?\n",
      "How to stop your iPhone from secretly tracking you?\n",
      "How to stop your iPhone from secretly tracking you?\n",
      "Times Foodie: Recipes, Food news, Vegetarian Recipes, Non Vegetarian Recipes, Nutritional Facts\n",
      "Try Latest Festival Sweets & Snack Recipes To Make it at Home\n",
      "Try Latest Occasion Cake & Snack Recipes To Make it at Home\n",
      "PCOS diet: Best and worst foods for hormonal health\n",
      "Pakoda recipes for the rain: From Crispy Maggi Balls to Chicken Pakoda\n",
      "Kylie Jenner's sandwich recipe: This turkey, salami and pepperoni sub goes viral on TikTok\n",
      "3D-printed sushi and sustainability: What's on the table for Indian restaurants?\n",
      "Bella Hadid's pasta recipe: Spaghetti with pine nuts, prosciutto and parmesan\n",
      "Floating Noodles: Prank everyone with this yummy food illusion\n",
      "Pizza party! From Calzone to Deep Dish, 7 types of pizzas for the week\n",
      "Eid Special Non-Veg Recipes: Dynamite prawns, butterfly chicken and more\n",
      "World Kebab Day 2022: From Galouti to Seekh, yummy kebab recipes you have to try!\n",
      "World Chocolate Day 2022: Éclairs, mousse and other yummy chocolate recipes to celebrate the day\n",
      "Times Foodie: Recipes, Food news, Vegetarian Recipes, Non Vegetarian Recipes, Nutritional Facts\n",
      "TIMES NOW\n",
      "\n",
      "Times Now (@timesnow) • Instagram photos and videos\n",
      "‎Times Network\n",
      "Times Now Live News LiveTV App\n",
      "\n",
      "\n",
      "\n",
      "Latest News, Breaking News Today - Bollywood, Cricket, Business, Politics - IndiaToday\n",
      "Trending News, Viral Stories, Video and Photo, Latest News Headlines\n",
      "Latest News From North East India, Breaking News Today Headlines Updates\n",
      "India Today Malayalam News (മലയാളം വാർത്തകൾ)\n",
      "Business News India: Latest Business News Today, Share Market, Economy\n",
      "Hindi news, हिंदी न्यूज़ , Hindi Samachar, हिंदी समाचार, Latest News in Hindi, Breaking News in Hindi, ताजा ख़बरें, Aaj Tak News\n",
      "Hindi News: Latest Hindi News, Breaking Hindi News Live, Today Hindi News and Headlines\n",
      "Bengali News: (বাংলা সংবাদ) Latest News in Bangla\n",
      "Good News Today: Hindi News, हिंदी समाचार, Latest News in Hindi, ताजा ख़बरें, GNTTV Live Hindi News\n",
      "Debatable news and stories India\n",
      "Articles on Health, True Stories, Humor, Personality, Opinion, Facts, Fiction, Interview\n",
      "Latest Sports News, Videos, Results Updates of Today's Sports Headlines\n",
      "Crime News in Hindi: Read Latest Crime news (क्राइम न्यूज़) in India and Abroad on Crime Tak\n",
      "Latest News, Breaking News Today - Bollywood, Cricket, Business, Politics - IndiaToday\n",
      "India Today English magazine cover: G20 2023\n",
      "India Today Live TV: Free Live TV, Live News Streaming and Live TV Newscast\n",
      "SSO 2.0\n",
      "Latest News, Breaking News Today - Bollywood, Cricket, Business, Politics - IndiaToday\n",
      "For You: Customize and Personalize Your Interest on India Today\n",
      "India Today Live TV: Free Live TV, Live News Streaming and Live TV Newscast\n",
      "Latest News, Breaking News and Headlines from India\n",
      "Latest International News, Breaking World News Headlines\n",
      "Business News, Today's Business News Headlines, Share Market News\n",
      "Technology News, Latest Mobile Phones, Smartphone Reviews, Gadget News, Laptops, Apps and Tech Tips\n",
      "Showbuzz: Entertainment News, Movie Review, Hot Trend and Celebs Photos\n",
      "Sports News, Latest Sports Updates, Cricket World Cup, Football, Tennis, Hockey &amp;amp;amp; IPL\n",
      "Science News: Latest India Science News, World Science News, Interesting Science Articles\n",
      "Health, Health News, Health Fitness Tips, Beauty, Health Issues, Natural health\n",
      "News Analysis and Opinion Articles\n",
      "India Today English magazine cover: G20 2023\n",
      "Trending News: Latest Trending News, Twitter Trending, Facebook trending, Hot on Social Media\n",
      "NewsMo Videos\n",
      "News Videos: Entertainment Videos, Trending Videos, Bollywood Videos, Sports Videos\n",
      "Lifestyle Fashion Trends, Beauty Tips, Celebrity Party News, Relationship advice, Health Tips\n",
      "Environment News, Latest News Headlines Environment, Issues, Global Warming, Articles\n",
      "Breaking News, Results, Exams, Education Updates and Notifications\n",
      "Law\n",
      "Auto News, Latest Car News, Upcoming Car and Bike, New Launches India\n",
      "Crime, Restaurants, Bars, Nightlife from Indian cities\n",
      "Crime News, Latest Crime News, Rape, Criminal Cases, Crime News Online\n",
      "Election Results 2022 Live: Gujarat, Himachal Pradesh Assembly Election Results News\n",
      "India Today Podcasts\n",
      "Opinion Columns\n",
      "Horoscope Today: Daily, Weekly, Monthly & Yearly Horoscope Predictions 2022\n",
      "India Today Interactive: Latest Trending Interactive Photo and Gallery News\n",
      "Visual Stories: Celebrity, Entertainment, Lifestyle, Food, Sports, Technology & Mobile Visual Stories\n",
      "Latest Cryptocurrency News, Cryptocurency Market News, Bitcoin Prices News\n",
      "Fact Check news: Truth behind Fake News Images, Videos\n",
      "DIU\n",
      "Photos, News Photos – IndiaToday Photo Gallery, Photos of Bollywood Films Stars, Cricketers, Celebrity, Models\n",
      "DNPA Code of Ethics\n",
      "Delhi Weather Today, Delhi Temperature and Air Quality (2022-12-05)\n",
      "Breaking News and Top Video News\n",
      "Latest News, Breaking News Today - Bollywood, Cricket, Business, Politics - IndiaToday\n",
      "E-Conclave\n",
      "All you need to know about Omicron variant of coronavirus\n",
      "All you need to know about Omicron variant of coronavirus\n",
      "All you need to know about Omicron variant of coronavirus\n",
      "Covid-19 vaccination FAQs: Your questions about coronavirus vaccine safety answered\n",
      "Covid-19 vaccination FAQs: Your questions about coronavirus vaccine safety answered\n",
      "Covid-19 vaccination FAQs: Your questions about coronavirus vaccine safety answered\n",
      "Covid-19 vaccination dos and don'ts, how to get your vaccine certificate and more\n",
      "Covid-19 vaccination dos and don'ts, how to get your vaccine certificate and more\n",
      "Covid-19 vaccination dos and don'ts, how to get your vaccine certificate and more\n",
      "Novel Coronavirus outbreak: Myths about Covid-19 from around the world, debunked\n",
      "Novel Coronavirus outbreak: Myths about Covid-19 from around the world, debunked\n",
      "Novel Coronavirus outbreak: Myths about Covid-19 from around the world, debunked\n",
      "SSO 2.0\n",
      "SSO 2.0\n",
      "SSO 2.0\n",
      "SSO 2.0\n",
      "India Today\n",
      "\n",
      "India Today\n",
      "India Today (@indiatoday) • Instagram photos and videos\n",
      "India Today Magazine For the Thinking Indian\n",
      "Business Today Magazine Subscription Print & Digital\n"
     ]
    },
    {
     "name": "stdout",
     "output_type": "stream",
     "text": [
      "IndiaToday Magazine For the Thinking Indian\n",
      "Time Magazine India: Buy Time Magazine Print + Digital Online India, Time Magazine Subscription\n",
      "India Today Live TV: Free Live TV, Live News Streaming and Live TV Newscast\n",
      "Aaj Tak Live TV: Free Live TV, Live News Streaming and TV Newscast at आजतक लाइव टीवी\n",
      "Good News Today Live TV\n",
      "एजेंडा आज तक 2021 - Aaj Tak\n",
      "India Today Conclave West 2022 Mumbai, Grand Hyatt Hotel\n",
      "साहित्य आज तक 2022 - Aaj Tak\n",
      "Love Tips, Relationship Advice and Romantic Love Stories\n",
      "Podcast Audio, Podcast News Audio, Podcast Online News\n",
      "India Today Games\n",
      "ESPL India 2021: Free Fire eSports Premier League Tournament 2021 in India Registration Details\n",
      "PR Newswire\n",
      "IndiaToday\n",
      "Breaking News and Top Video News\n",
      "India Today Newsletter\n",
      "IndiaToday Group Privacy Policy\n",
      "Correction policy\n",
      "Thomson Press (India) Limited\n",
      "Care Today Fund takes relief to Covid-19 impacted communities with the support of TV Today Network Ltd\n",
      "रेट कार्ड\n",
      "Headlines Today News: Online News Aggregator of India Today, TOI, The Indian Express, NDTV, Hindustan Times\n",
      "Latest News, Breaking News Today - Bollywood, Cricket, Business, Politics - IndiaToday\n",
      "India Today Malayalam News (മലയാളം വാർത്തകൾ)\n",
      "Latest News From North East India, Breaking News Today Headlines Updates\n",
      "Business News India: Latest Business News Today, Share Market, Economy\n",
      "Trending News, Viral Stories, Video and Photo, Latest News Headlines\n",
      "Hindi news, हिंदी न्यूज़ , Hindi Samachar, हिंदी समाचार, Latest News in Hindi, Breaking News in Hindi, ताजा ख़बरें, Aaj Tak News\n",
      "Hindi News: Latest Hindi News, Breaking Hindi News Live, Today Hindi News and Headlines\n",
      "Bengali News: (বাংলা সংবাদ) Latest News in Bangla\n",
      "Good News Today: Hindi News, हिंदी समाचार, Latest News in Hindi, ताजा ख़बरें, GNTTV Live Hindi News\n",
      "Debatable news and stories India\n",
      "Articles on Health, True Stories, Humor, Personality, Opinion, Facts, Fiction, Interview\n",
      "The Women's Magazine for Fashion, Sex Advice, Dating Tips, and Celebrity News\n",
      "Vasant Valley School\n",
      "Best Colleges\n",
      "List of Top Universities in India 2022\n",
      "Apps on Google Play\n",
      "‎India Today TV English News\n",
      "India Today Television – Engli\n",
      "INDIA TODAY GROUP: India Today, Business Today, Aaj Tak, Care Today, Mail Today, Cosmopolitan, Reader's Digest, India Today Conclave\n",
      "India Today , Business Today, Aaj Tak, Care Today, Today, Cosmopolitan, Reader's Digest, India Today Conclave\n",
      "India Today , Business Today, Aaj Tak, Care Today, Today, Cosmopolitan, Reader's Digest, India Today Conclave\n",
      "Archive\n",
      "INDIA TODAY GROUP: India Today, Business Today, Aaj Tak, Care Today, Mail Today, Cosmopolitan, Reader's Digest, India Today Conclave\n",
      "\n",
      "\n",
      "\n",
      "Get Latest News, India News, Breaking News, Today's News\n",
      "Hindi News, हिंदी न्यूज़, Hindi Samachar, Bollywood, लाइफस्टाइल, Cricket, Latest News in Hindi, ताजा ख़बरें\n",
      "Business News, Market Updates, Economy, Finance, Stock, BSE, NSE, Nifty – NDTV Profit\n",
      "Celebrity News and Gossips – NDTV Movies\n",
      "Live Cricket Scores, Highlights, Cricket News, Results, Stats, Cricket Videos and More – NDTV India\n",
      "Tech News, Latest Technology, Mobiles, Laptops – Gadgets 360\n",
      "Healthy Recipes - NDTV Food\n",
      "Latest Education News: Admission, Exams, Result, Admit Card, Events and New Regulations\n",
      "Lifestyle News: Latest and updates on Lifestyle Trends\n",
      "Health Care News, Health and Fitness Tips, Diet Plan, Home Remedies, Heart, Pregnancy and Sexual Health advice\n",
      "Research on New Car and Bike Prices, News, Reviews, Videos; Buy/Sell Used Vehicles\n",
      "Play Free Online Daily Crossword Puzzle Games\n",
      "NDTV Mobile Visual Stories\n",
      "NDTV-Dettol Banega Swasth India\n",
      "Buy Mobiles, Laptops, LED TV, Earpods Online – NDTV.com\n",
      "Coronavirus: Find Latest News, Update, information on COVID-19 Outbreak, Total Cases, Death Rate of Coronavirus with NDTV.com\n",
      "Coronavirus News: Find Latest News, Updates and Cases effected by coronavirus\n",
      "Coronavirus (COVID-19): Find Latest worldwide Updates, Outbreak, confirmed cases, deaths of Coronavirus – NDTV\n",
      "Coronavirus (COVID-19): Find Latest worldwide Updates, Outbreak, confirmed cases, deaths of Coronavirus – NDTV\n",
      "Coronavirus News Videos: Find Latest Coronavirus Video Updates and Cases with NDTV\n",
      "Coronavirus FAQ: Frequently asked questions about novel coronavirus (COVID-19)\n",
      "NDTV\n",
      "\n",
      "Get Latest News, India News, Breaking News, Today's News\n",
      "Coronavirus News: Find Latest News, Updates and Cases effected by coronavirus\n",
      "Medical Body ICMR Best Judge: Supreme Court Over Homeopathy For Covid\n",
      "Medical Body ICMR Best Judge: Supreme Court Over Homeopathy For Covid\n",
      "The Research That Led WHO To Change Stand That COVID-19 Is Airborne\n",
      "The Research That Led WHO To Change Stand That COVID-19 Is Airborne\n",
      "Karnataka Issues Advisory After Detection Of New Covid Sub-Variant\n",
      "Karnataka Issues Advisory After Detection Of New Covid Sub-Variant\n",
      "US Says India An Important Manufacturer Of Vaccines For World\n",
      "US Says India An Important Manufacturer Of Vaccines For World\n",
      "WHO Says \"Not A Time To Relax\" As Covid, Flu Cases Rise In Europe\n",
      "WHO Says \"Not A Time To Relax\" As Covid, Flu Cases Rise In Europe\n",
      "India's Economy Lights Up This Diwali After Covid Dampener. Here's Why\n",
      "India's Economy Lights Up This Diwali After Covid Dampener. Here's Why\n",
      "Omicron Variant May Cause Another Covid Wave: WHO Chief Scientist\n",
      "Omicron Variant May Cause Another Covid Wave: WHO Chief Scientist\n",
      "\"People Fed Up Of Covid, Vaccines. I Am Also Fed Up\": Adar Poonawalla\n",
      "\"People Fed Up Of Covid, Vaccines. I Am Also Fed Up\": Adar Poonawalla\n",
      "Coronavirus (COVID-19): Find Latest worldwide Updates, Outbreak, confirmed cases, deaths of Coronavirus – NDTV\n",
      "Coronavirus News: Find Latest News, Updates and Cases effected by coronavirus\n",
      "Routine Immunisations In India Suffered Due To Covid: Union Health Minister\n",
      "Routine Immunisations In India Suffered Due To Covid: Union Health Minister\n",
      "China Scrubs Reports Of Teen Quarantine Death From Internet\n",
      "Coronavirus (COVID-19): Find Latest worldwide Updates, Outbreak, confirmed cases, deaths of Coronavirus – NDTV\n",
      "Coronavirus Live Updates: India Records 1,321 COVID-19 Cases In 24 Hours\n",
      "Coronavirus helpline Numbers India: find all state helpline numbers of Coronavirus\n",
      "\n",
      "\n",
      "\n",
      "\n",
      "\n",
      "\n",
      "home_isolation_11Jan-2022 new\n",
      "Coronavirus News Videos: Find Latest Coronavirus Video Updates and Cases with NDTV\n",
      "India Records 1,604 New Covid Cases In Last 24 Hours\n",
      "India Records 1,604 New Covid Cases In Last 24 Hours\n",
      "WHO&#039;s Science in 5: Adults And COVID-19 vaccines\n",
      "WHO&#039;s Science in 5: Adults And COVID-19 vaccines\n",
      "WHO Says &#039;The End Is In Sight&#039; For Covid Pandemic\n",
      "WHO Says &#039;The End Is In Sight&#039; For Covid Pandemic\n",
      "Bharat Biotech&#039;s Nasal Vaccine Against Covid-19 Cleared For Use\n",
      "Bharat Biotech&#039;s Nasal Vaccine Against Covid-19 Cleared For Use\n",
      "Anthony Fauci, Joe Biden&#039;s Covid Advisor, To Step Down In December\n",
      "Anthony Fauci, Joe Biden&#039;s Covid Advisor, To Step Down In December\n",
      "Coronavirus FAQ: Frequently asked questions about novel coronavirus (COVID-19)\n",
      "Coronavirus Myth Busters: Myth Busters against COVID-19 coronavirus\n",
      "Coronavirus News: Find Latest News, Updates and Cases effected by coronavirus\n",
      "Get Latest News, India News, Breaking News, Today's News\n",
      "NDTV\n",
      "\n",
      "NDTV (@ndtv) • Instagram photos and videos\n",
      "\n",
      "The Company\n",
      "Homepage\n",
      "We Design, Create And Execute Content\n",
      "EPG Services, EPG Scheduling & Aggregation and Rich Meta Data Services – NDTV.com\n",
      "RIO Agreement 2\n",
      "Disclaimer\n",
      "FEEDBACK\n",
      "The Investor\n",
      "NDTV »Complaints Redressal\n",
      "SERVICE TERMS\n",
      "Daily News NDTV.com Archives: News Archives Sitemap\n",
      "Get Latest News, India News, Breaking News, Today's News\n",
      "Business News, Market Updates, Economy, Finance, Stock, BSE, NSE, Nifty – NDTV Profit\n",
      "Hindi News, हिंदी न्यूज़, Hindi Samachar, Bollywood, लाइफस्टाइल, Cricket, Latest News in Hindi, ताजा ख़बरें\n",
      "Celebrity News and Gossips – NDTV Movies\n",
      "Live Cricket Scores, Highlights, Cricket News, Results, Stats, Cricket Videos and More – NDTV India\n",
      "Healthy Recipes - NDTV Food\n",
      "Tech News, Latest Technology, Mobiles, Laptops – Gadgets 360\n",
      "Research on New Car and Bike Prices, News, Reviews, Videos; Buy/Sell Used Vehicles\n",
      "Trains Between Stations – NDTV.com\n",
      "Art Online: Buy Paintings & Prints Online\n",
      "Code Of Ethics For Digital News Websites\n",
      "\n",
      "\n",
      "\n"
     ]
    }
   ],
   "source": [
    "for url in URL:\n",
    "    parser = 'html.parser'  \n",
    "    resp = requests.get(url)\n",
    "    http_encoding = resp.encoding if 'charset' in resp.headers.get('content-type', '').lower() else None\n",
    "    html_encoding = EncodingDetector.find_declared_encoding(resp.content, is_html=True)\n",
    "    encoding = html_encoding or http_encoding\n",
    "    soup = BeautifulSoup(resp.content, parser, from_encoding=encoding)\n",
    "        \n",
    "    links = []\n",
    "    for link in soup.find_all('a', href=True):\n",
    "        if \"javascript\" in link[\"href\"]:\n",
    "            continue\n",
    "        links.append(link['href'])\n",
    "    count = 0 \n",
    "    for link in links:\n",
    "        try:\n",
    "            article = Article(link)\n",
    "            article.download()\n",
    "            article.parse()\n",
    "            print(article.title)\n",
    "            if \"COVID\" in article.title or \"coronavirus\" in article.title or \"Coronavirus\"in article.title or \"Covid-19\" in article.title or \"COVID-19\" in article.title :\n",
    "                    count += 1\n",
    "    \n",
    "        except:\n",
    "            pass\n",
    "    Url_count.append(count)\n",
    "    print()\n",
    "    print()\n",
    "    print()"
   ]
  },
  {
   "cell_type": "markdown",
   "metadata": {
    "id": "ODxQnCzO-tZL"
   },
   "source": [
    "The following code displays the number of occurances of a given word (\"covid\") in the title of each news website"
   ]
  },
  {
   "cell_type": "code",
   "execution_count": 7,
   "metadata": {
    "id": "-34y47ajsqvr"
   },
   "outputs": [
    {
     "name": "stdout",
     "output_type": "stream",
     "text": [
      "\u001b[1mNumber of articles with the word \"coronavirus\" in it\n",
      "\u001b[1mSite: https://www.timesnownews.com/coronavirus \u001b[1mCount: 0\n",
      "\n",
      "\n",
      "\u001b[1mSite: https://www.indiatoday.in/coronavirus \u001b[1mCount: 13\n",
      "\n",
      "\n",
      "\u001b[1mSite: https://www.ndtv.com/coronavirus?pfrom=home-mainnavgation \u001b[1mCount: 22\n",
      "\n",
      "\n",
      "\u001b[1mGraphical representation of the word count\n"
     ]
    }
   ],
   "source": [
    "print('\\033[1m'+ 'Number of articles with the word \"coronavirus\" in it' )    \n",
    "for url, count in zip(URL, Url_count):\n",
    "       \n",
    "    print('\\033[1m'+ \"Site:\", url, '\\033[1m'+ \"Count:\", count)\n",
    "    print()\n",
    "    print()\n",
    "print('\\033[1m'+'Graphical representation of the word count')"
   ]
  },
  {
   "cell_type": "markdown",
   "metadata": {
    "id": "rfMfBumw_A4y"
   },
   "source": [
    "Finally, the following code displays a bar graph showing the comparisions between different websites."
   ]
  },
  {
   "cell_type": "code",
   "execution_count": 8,
   "metadata": {
    "id": "VkZOb3gnsqsi"
   },
   "outputs": [
    {
     "data": {
      "text/plain": [
       "Text(0.5, 0, 'News Websites')"
      ]
     },
     "execution_count": 8,
     "metadata": {},
     "output_type": "execute_result"
    },
    {
     "data": {
      "image/png": "[encoded data removed]",
      "text/plain": [
       "<Figure size 640x480 with 1 Axes>"
      ]
     },
     "metadata": {},
     "output_type": "display_data"
    }
   ],
   "source": [
    "# make an array for the x-axis from the URL List \n",
    "nx = np.arange(len(URL)) \n",
    "\n",
    "labels = ['timessnownews', 'indiatoday','Ndtv']\n",
    "\n",
    "fig = plt.figure()\n",
    "ax = fig.gca()\n",
    "ax.set_title('Media analysis')\n",
    "ax.bar(nx, Url_count)\n",
    "ax.set_xticks(nx)\n",
    "ax.set_xticklabels(labels)\n",
    "ax.set_ylabel('Number of articles')\n",
    "ax.set_xlabel('News Websites')"
   ]
  },
  {
   "cell_type": "code",
   "execution_count": null,
   "metadata": {},
   "outputs": [],
   "source": []
  }
 ],
 "metadata": {
  "colab": {
   "authorship_tag": "ABX9TyMzBjoXSNVMzAVGqh2YxhCd",
   "include_colab_link": true,
   "name": "News Analysis.ipynb",
   "provenance": []
  },
  "kernelspec": {
   "display_name": "Python 3 (ipykernel)",
   "language": "python",
   "name": "python3"
  },
  "language_info": {
   "codemirror_mode": {
    "name": "ipython",
    "version": 3
   },
   "file_extension": ".py",
   "mimetype": "text/x-python",
   "name": "python",
   "nbconvert_exporter": "python",
   "pygments_lexer": "ipython3",
   "version": "3.8.8"
  }
 },
 "nbformat": 4,
 "nbformat_minor": 1
}
